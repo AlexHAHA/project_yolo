{
 "cells": [
  {
   "cell_type": "markdown",
   "metadata": {},
   "source": [
    "# VOC\n",
    "PASCAL VOC 挑战赛主要有 `Object Classification` 、`Object Detection`、`Object Segmentation`、`Human Layout`、`Action Classification`这几类子任务，其中又分为PASCAL VOC 2007和2012数据集，包含了4 个大类：vehicle、household、animal、person，总共 20 个小类（加背景21类），每个大类包含的小类如下：<br>\n",
    "- **Person**:person\n",
    "- **Animal**: bird, cat, cow, dog, horse, sheep\n",
    "- **Vehicle**:aeroplane, bicycle, boat, bus, car, motorbike, train\n",
    "- **Indoor**: bottle, chair, dining table, potted plant, sofa, tv/monitor"
   ]
  },
  {
   "cell_type": "markdown",
   "metadata": {},
   "source": [
    "## 数据集文件结构\n",
    "下载数据集后，其文件结构如下（以VOC2007为例）：<br>\n",
    "├─ Annotations 进行 detection 任务时的标签文件，xml 形式，文件名与图片名一一对应<br>\n",
    "├─ ImageSets 包含三个子文件夹 Layout、Main、Segmentation，其中 Main 存放的是分类和检测的数据集分割文件<br>\n",
    "├─ JPEGImages 存放 .jpg 格式的图片文件<br>\n",
    "├─ SegmentationClass 存放按照 class 分割的图片<br>\n",
    "└─ SegmentationObject 存放按照 object 分割的图片<br>\n",
    "\n",
    "├─ Main<br>\n",
    "│   ├─ train.txt 写着用于训练的图片名称， 共 2501 个<br>\n",
    "│   ├─ val.txt 写着用于验证的图片名称，共 2510 个<br>\n",
    "│   ├─ trainval.txt train与val的合集。共 5011 个<br>\n",
    "│   ├─ test.txt 写着用于测试的图片名称，共 4952 个<br>\n"
   ]
  },
  {
   "cell_type": "markdown",
   "metadata": {},
   "source": [
    "## XML解析\n"
   ]
  },
  {
   "cell_type": "markdown",
   "metadata": {},
   "source": [
    "```\n",
    "<annotation>\n",
    "\t<folder>VOC2007</folder>\n",
    "\t<filename>000001.jpg</filename>  # 文件名 \n",
    "\t<source>\n",
    "\t\t<database>The VOC2007 Database</database>\n",
    "\t\t<annotation>PASCAL VOC2007</annotation>\n",
    "\t\t<image>flickr</image>\n",
    "\t\t<flickrid>341012865</flickrid>\n",
    "\t</source>\n",
    "\t<owner>\n",
    "\t\t<flickrid>Fried Camels</flickrid>\n",
    "\t\t<name>Jinky the Fruit Bat</name>\n",
    "\t</owner>\n",
    "\t<size>  # 图像尺寸, 用于对 bbox 左上和右下坐标点做归一化操作\n",
    "\t\t<width>353</width>\n",
    "\t\t<height>500</height>\n",
    "\t\t<depth>3</depth>\n",
    "\t</size>\n",
    "\t<segmented>0</segmented>  # 是否用于分割\n",
    "\t<object>\n",
    "\t\t<name>dog</name>  # 物体类别\n",
    "\t\t<pose>Left</pose>  # 拍摄角度：front, rear, left, right, unspecified \n",
    "\t\t<truncated>1</truncated>  # 目标是否被截断（比如在图片之外），或者被遮挡（超过15%）\n",
    "\t\t<difficult>0</difficult>  # 检测难易程度，这个主要是根据目标的大小，光照变化，图片质量来判断\n",
    "\t\t<bndbox>\n",
    "\t\t\t<xmin>48</xmin>\n",
    "\t\t\t<ymin>240</ymin>\n",
    "\t\t\t<xmax>195</xmax>\n",
    "\t\t\t<ymax>371</ymax>\n",
    "\t\t</bndbox>\n",
    "\t</object>\n",
    "\t<object>\n",
    "\t\t<name>person</name>\n",
    "\t\t<pose>Left</pose>\n",
    "\t\t<truncated>1</truncated>\n",
    "\t\t<difficult>0</difficult>\n",
    "\t\t<bndbox>\n",
    "\t\t\t<xmin>8</xmin>\n",
    "\t\t\t<ymin>12</ymin>\n",
    "\t\t\t<xmax>352</xmax>\n",
    "\t\t\t<ymax>498</ymax>\n",
    "\t\t</bndbox>\n",
    "\t</object>\n",
    "</annotation>\n",
    "```"
   ]
  },
  {
   "cell_type": "markdown",
   "metadata": {},
   "source": [
    "## 解析实例"
   ]
  },
  {
   "cell_type": "code",
   "execution_count": 1,
   "metadata": {},
   "outputs": [],
   "source": [
    "import os"
   ]
  },
  {
   "cell_type": "code",
   "execution_count": 8,
   "metadata": {},
   "outputs": [],
   "source": [
    "path_train_val = r'H:\\deepLearning\\dataset\\voc\\VOCtrainval_06-Nov-2007\\VOC2007'\n",
    "path_anno = os.path.join(path_train_val, 'Annotations')\n",
    "files_anno = os.listdir(path_anno)\n",
    "#\n",
    "path_image = os.path.join(path_train_val, 'JPEGImages')\n",
    "files_image = os.listdir(path_image)"
   ]
  },
  {
   "cell_type": "code",
   "execution_count": 9,
   "metadata": {},
   "outputs": [
    {
     "data": {
      "text/plain": [
       "['000005.xml', '000007.xml']"
      ]
     },
     "execution_count": 9,
     "metadata": {},
     "output_type": "execute_result"
    }
   ],
   "source": [
    "files_anno[:2]"
   ]
  },
  {
   "cell_type": "code",
   "execution_count": 10,
   "metadata": {},
   "outputs": [
    {
     "data": {
      "text/plain": [
       "['000005.jpg', '000007.jpg']"
      ]
     },
     "execution_count": 10,
     "metadata": {},
     "output_type": "execute_result"
    }
   ],
   "source": [
    "files_image[:2]"
   ]
  },
  {
   "cell_type": "code",
   "execution_count": 11,
   "metadata": {},
   "outputs": [],
   "source": [
    "VOC_CLASSES = (    # always index 0\n",
    "    'aeroplane', 'bicycle', 'bird', 'boat',\n",
    "    'bottle', 'bus', 'car', 'cat', 'chair',\n",
    "    'cow', 'diningtable', 'dog', 'horse',\n",
    "    'motorbike', 'person', 'pottedplant',\n",
    "    'sheep', 'sofa', 'train', 'tvmonitor')"
   ]
  },
  {
   "cell_type": "code",
   "execution_count": 12,
   "metadata": {},
   "outputs": [],
   "source": [
    "import xml.etree.ElementTree as ET"
   ]
  },
  {
   "cell_type": "code",
   "execution_count": 14,
   "metadata": {},
   "outputs": [],
   "source": [
    "def parse_rec(filename):\n",
    "    '''\n",
    "    Parse a PASCAL VOC xml file\n",
    "    '''\n",
    "    tree = ET.parse(filename)\n",
    "    objects = []\n",
    "    for obj in tree.findall('object'):\n",
    "        obj_struct = {}\n",
    "        difficult = int(obj.find('difficult').text)\n",
    "        name = obj.find('name').text\n",
    "        if difficult==1:\n",
    "            print(f'Warning:the -{name}- in -{filename}- is difficult to detect')\n",
    "            continue\n",
    "        obj_struct['name'] = name\n",
    "        bbox = obj.find('bndbox')\n",
    "        obj_struct['bbox'] = [int(float(bbox.find('xmin').text)),\n",
    "                              int(float(bbox.find('ymin').text)),\n",
    "                              int(float(bbox.find('xmax').text)),\n",
    "                              int(float(bbox.find('ymax').text))]\n",
    "        objects.append(obj_struct)\n",
    "        \n",
    "    return objects"
   ]
  },
  {
   "cell_type": "code",
   "execution_count": 16,
   "metadata": {},
   "outputs": [
    {
     "data": {
      "text/plain": [
       "[{'name': 'horse', 'bbox': [69, 172, 270, 330]},\n",
       " {'name': 'person', 'bbox': [150, 141, 229, 284]},\n",
       " {'name': 'person', 'bbox': [285, 201, 327, 331]},\n",
       " {'name': 'person', 'bbox': [258, 198, 297, 329]}]"
      ]
     },
     "execution_count": 16,
     "metadata": {},
     "output_type": "execute_result"
    }
   ],
   "source": [
    "xml_file = os.path.join(path_anno, files_anno[2])\n",
    "parse_rec(xml_file)"
   ]
  },
  {
   "cell_type": "code",
   "execution_count": null,
   "metadata": {},
   "outputs": [],
   "source": []
  }
 ],
 "metadata": {
  "kernelspec": {
   "display_name": "Python 3",
   "language": "python",
   "name": "python3"
  },
  "language_info": {
   "codemirror_mode": {
    "name": "ipython",
    "version": 3
   },
   "file_extension": ".py",
   "mimetype": "text/x-python",
   "name": "python",
   "nbconvert_exporter": "python",
   "pygments_lexer": "ipython3",
   "version": "3.6.9"
  }
 },
 "nbformat": 4,
 "nbformat_minor": 4
}
