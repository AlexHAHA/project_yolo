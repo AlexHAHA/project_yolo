{
 "cells": [
  {
   "cell_type": "code",
   "execution_count": 1,
   "metadata": {},
   "outputs": [],
   "source": [
    "import torch\n",
    "import torch.nn.functional as F"
   ]
  },
  {
   "cell_type": "markdown",
   "metadata": {},
   "source": [
    "### F.mse_loss\n",
    "x和y是同shape的tensor：<br>\n",
    "$L = \\frac{\\sum({x_i}-{y_i})^2}{num} $<br>\n",
    "num是tensor中包含的元素数量"
   ]
  },
  {
   "cell_type": "code",
   "execution_count": 70,
   "metadata": {},
   "outputs": [],
   "source": [
    "pred = torch.tensor([[1,2],\n",
    "                     [3,4],\n",
    "                     [5,6]],dtype=torch.float)\n",
    "targ1 = torch.tensor([[1,2],\n",
    "                     [3,4],\n",
    "                     [5,6]],dtype=torch.float)    \n",
    "targ2 = torch.tensor([[5,3],\n",
    "                     [4,4],\n",
    "                     [3,6]],dtype=torch.float)    "
   ]
  },
  {
   "cell_type": "code",
   "execution_count": 71,
   "metadata": {},
   "outputs": [
    {
     "data": {
      "text/plain": [
       "tensor(0.)"
      ]
     },
     "execution_count": 71,
     "metadata": {},
     "output_type": "execute_result"
    }
   ],
   "source": [
    "res1 = F.mse_loss(pred, targ1)\n",
    "res1"
   ]
  },
  {
   "cell_type": "code",
   "execution_count": 72,
   "metadata": {},
   "outputs": [
    {
     "data": {
      "text/plain": [
       "tensor(3.6667)"
      ]
     },
     "execution_count": 72,
     "metadata": {},
     "output_type": "execute_result"
    }
   ],
   "source": [
    "res2 = F.mse_loss(pred, targ2)\n",
    "res2"
   ]
  },
  {
   "cell_type": "code",
   "execution_count": 73,
   "metadata": {},
   "outputs": [],
   "source": [
    "def mse_loss(pred, targ):\n",
    "    res = (pred - targ)**2\n",
    "    print(res)\n",
    "    num = torch.prod(torch.tensor(res.size()))\n",
    "    print(num)\n",
    "    res = torch.sum(res) / num\n",
    "    return res"
   ]
  },
  {
   "cell_type": "code",
   "execution_count": 74,
   "metadata": {},
   "outputs": [
    {
     "name": "stdout",
     "output_type": "stream",
     "text": [
      "tensor([[16.,  1.],\n",
      "        [ 1.,  0.],\n",
      "        [ 4.,  0.]])\n",
      "tensor(6)\n"
     ]
    },
    {
     "data": {
      "text/plain": [
       "tensor(3.6667)"
      ]
     },
     "execution_count": 74,
     "metadata": {},
     "output_type": "execute_result"
    }
   ],
   "source": [
    "mse_loss(pred, targ2)"
   ]
  },
  {
   "cell_type": "code",
   "execution_count": null,
   "metadata": {},
   "outputs": [],
   "source": []
  }
 ],
 "metadata": {
  "kernelspec": {
   "display_name": "Python 3",
   "language": "python",
   "name": "python3"
  },
  "language_info": {
   "name": ""
  }
 },
 "nbformat": 4,
 "nbformat_minor": 4
}
